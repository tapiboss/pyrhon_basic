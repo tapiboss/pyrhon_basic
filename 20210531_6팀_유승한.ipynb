{
  "nbformat": 4,
  "nbformat_minor": 0,
  "metadata": {
    "colab": {
      "name": "20210531-6팀-유승한.ipynb",
      "provenance": [],
      "collapsed_sections": [],
      "toc_visible": true,
      "authorship_tag": "ABX9TyPr8NPv09m86+dl0z6ekLC1",
      "include_colab_link": true
    },
    "kernelspec": {
      "name": "python3",
      "display_name": "Python 3"
    },
    "language_info": {
      "name": "python"
    }
  },
  "cells": [
    {
      "cell_type": "markdown",
      "metadata": {
        "id": "view-in-github",
        "colab_type": "text"
      },
      "source": [
        "<a href=\"https://colab.research.google.com/github/tapiboss/python_basic/blob/main/20210531_6%ED%8C%80_%EC%9C%A0%EC%8A%B9%ED%95%9C.ipynb\" target=\"_parent\"><img src=\"https://colab.research.google.com/assets/colab-badge.svg\" alt=\"Open In Colab\"/></a>"
      ]
    },
    {
      "cell_type": "code",
      "metadata": {
        "colab": {
          "base_uri": "https://localhost:8080/"
        },
        "id": "EYvJTZXjm1w4",
        "outputId": "f4d119df-4379-461a-9d2f-f78e83c8c648"
      },
      "source": [
        "#예제1 편의점 재고 관리\n",
        "inventory = {}\n",
        "while True:\n",
        "    product = input('물건이름: ')\n",
        "    if product == '':\n",
        "        break\n",
        "    number = int(input('개수: '))\n",
        "    if product in inventory.keys():\n",
        "        inventory[product] += number\n",
        "    else:\n",
        "        inventory[product] = number\n",
        "print(inventory)\n",
        "for key, value in sorted(inventory.items()):\n",
        "    print(key, value, end=' ')"
      ],
      "execution_count": null,
      "outputs": [
        {
          "output_type": "stream",
          "text": [
            "물건이름: 1\n",
            "개수: 10\n",
            "물건이름: 2\n",
            "개수: 10\n",
            "물건이름: 3\n",
            "개수: 10\n",
            "물건이름: 2\n",
            "개수: 5\n",
            "물건이름: \n",
            "{'1': 10, '2': 15, '3': 10}\n",
            "1 10 2 15 3 10 "
          ],
          "name": "stdout"
        }
      ]
    },
    {
      "cell_type": "markdown",
      "metadata": {
        "id": "9qcFQTHrvN44"
      },
      "source": [
        "# 집합(set)\n",
        "> 자료들이 순서와 중복 없이 저장된 것\n",
        "\n",
        "> 중괄호{} 안에 요소를 쉼표로 구분하여 나열한다\n",
        "\n",
        "        Set_name = {value1, value2, ... , valueN}"
      ]
    },
    {
      "cell_type": "code",
      "metadata": {
        "colab": {
          "base_uri": "https://localhost:8080/"
        },
        "id": "qlI5ycqqtbeH",
        "outputId": "d9561415-35f7-470e-dd33-d5ab02bd933c"
      },
      "source": [
        "# 예시\n",
        "set_snack = set(['새우깡', '오감자', '썬칩', '포카칩', '썬칩'])\n",
        "set_snack"
      ],
      "execution_count": null,
      "outputs": [
        {
          "output_type": "execute_result",
          "data": {
            "text/plain": [
              "{'새우깡', '썬칩', '오감자', '포카칩'}"
            ]
          },
          "metadata": {
            "tags": []
          },
          "execution_count": 2
        }
      ]
    },
    {
      "cell_type": "markdown",
      "metadata": {
        "id": "rWGZZLOIwHf1"
      },
      "source": [
        "# 집합(set) > 생성\n",
        "> 집합명 = {요소1, 요소2, ... , 요소N}\n",
        "\n",
        "> 집합명 = set([요소1, 요소2, ... 요소N])"
      ]
    },
    {
      "cell_type": "code",
      "metadata": {
        "colab": {
          "base_uri": "https://localhost:8080/"
        },
        "id": "yNor660ov2Zf",
        "outputId": "32a9c704-e03d-4641-abfe-3d6b086051e2"
      },
      "source": [
        "set_snack = {'새우깡', '오감자', '썬칩', '포카칩', '썬칩'}\n",
        "set_snack"
      ],
      "execution_count": null,
      "outputs": [
        {
          "output_type": "execute_result",
          "data": {
            "text/plain": [
              "{'새우깡', '썬칩', '오감자', '포카칩'}"
            ]
          },
          "metadata": {
            "tags": []
          },
          "execution_count": 4
        }
      ]
    },
    {
      "cell_type": "code",
      "metadata": {
        "colab": {
          "base_uri": "https://localhost:8080/",
          "height": 190
        },
        "id": "V372lDTcwjAd",
        "outputId": "bca00138-cd4f-4984-cfeb-14f50690bc5d"
      },
      "source": [
        "set_snack = set(['새우깡', '오감자', '썬칩', '포카칩', '썬칩'])\n",
        "set_snack"
      ],
      "execution_count": null,
      "outputs": [
        {
          "output_type": "error",
          "ename": "TypeError",
          "evalue": "ignored",
          "traceback": [
            "\u001b[0;31m---------------------------------------------------------------------------\u001b[0m",
            "\u001b[0;31mTypeError\u001b[0m                                 Traceback (most recent call last)",
            "\u001b[0;32m<ipython-input-10-ee33fcfba6d5>\u001b[0m in \u001b[0;36m<module>\u001b[0;34m()\u001b[0m\n\u001b[0;32m----> 1\u001b[0;31m \u001b[0mset_snack\u001b[0m \u001b[0;34m=\u001b[0m \u001b[0mset\u001b[0m\u001b[0;34m(\u001b[0m\u001b[0;34m'새우깡'\u001b[0m\u001b[0;34m,\u001b[0m \u001b[0;34m'오감자'\u001b[0m\u001b[0;34m,\u001b[0m \u001b[0;34m'썬칩'\u001b[0m\u001b[0;34m,\u001b[0m \u001b[0;34m'포카칩'\u001b[0m\u001b[0;34m,\u001b[0m \u001b[0;34m'썬칩'\u001b[0m\u001b[0;34m)\u001b[0m\u001b[0;34m\u001b[0m\u001b[0;34m\u001b[0m\u001b[0m\n\u001b[0m\u001b[1;32m      2\u001b[0m \u001b[0mset_snack\u001b[0m\u001b[0;34m\u001b[0m\u001b[0;34m\u001b[0m\u001b[0m\n",
            "\u001b[0;31mTypeError\u001b[0m: set expected at most 1 arguments, got 5"
          ]
        }
      ]
    },
    {
      "cell_type": "code",
      "metadata": {
        "colab": {
          "base_uri": "https://localhost:8080/"
        },
        "id": "_HMkpnddwpdk",
        "outputId": "c29948ce-da3e-49e8-f9c5-98ac10a5ebc2"
      },
      "source": [
        "# 문자열을 넣으면 중복된 문자를 제거한다.\n",
        "set_str = set('hello')\n",
        "set_str"
      ],
      "execution_count": null,
      "outputs": [
        {
          "output_type": "execute_result",
          "data": {
            "text/plain": [
              "{'e', 'h', 'l', 'o'}"
            ]
          },
          "metadata": {
            "tags": []
          },
          "execution_count": 9
        }
      ]
    },
    {
      "cell_type": "code",
      "metadata": {
        "colab": {
          "base_uri": "https://localhost:8080/"
        },
        "id": "1dH4HnzBwyED",
        "outputId": "312111cd-8d6d-482c-e5a1-3209f883a69f"
      },
      "source": [
        "set_str = {'hello', 'why', 'so', 'serious', 'why'}\n",
        "set_str"
      ],
      "execution_count": null,
      "outputs": [
        {
          "output_type": "execute_result",
          "data": {
            "text/plain": [
              "{'hello', 'serious', 'so', 'why'}"
            ]
          },
          "metadata": {
            "tags": []
          },
          "execution_count": 13
        }
      ]
    },
    {
      "cell_type": "markdown",
      "metadata": {
        "id": "9y7p58ad2KF3"
      },
      "source": [
        "# 집합(set) > 요소 추출\n",
        "> 집합 자료형은 순서가 없기 때문에 인덱싱으로 값을 얻을 수 없다.\n",
        "\n",
        "> 집합 자료형에 저장된 값을 인덱싱으로 접근하려면 리스트나 튜플로 변환하여 사용한다."
      ]
    },
    {
      "cell_type": "code",
      "metadata": {
        "colab": {
          "base_uri": "https://localhost:8080/"
        },
        "id": "wgY-YKs22ck8",
        "outputId": "6ec61008-289a-428e-b974-369b4f036894"
      },
      "source": [
        "set_snack = set(['새우깡', '오감자', '썬칩', '포카칩', '썬칩'])\n",
        "list_snack = list(set_snack)\n",
        "print(list_snack)\n",
        "print(list_snack[2])"
      ],
      "execution_count": null,
      "outputs": [
        {
          "output_type": "stream",
          "text": [
            "['썬칩', '포카칩', '새우깡', '오감자']\n",
            "새우깡\n"
          ],
          "name": "stdout"
        }
      ]
    },
    {
      "cell_type": "code",
      "metadata": {
        "colab": {
          "base_uri": "https://localhost:8080/"
        },
        "id": "FXc861LQ2sbA",
        "outputId": "ab4ece79-0d28-4bcf-8d9a-043544f51858"
      },
      "source": [
        "set_snack = set(['새우깡', '오감자', '썬칩', '포카칩', '썬칩'])\n",
        "list_snack = tuple(set_snack)\n",
        "print(list_snack)\n",
        "print(list_snack[2])"
      ],
      "execution_count": null,
      "outputs": [
        {
          "output_type": "stream",
          "text": [
            "('썬칩', '포카칩', '새우깡', '오감자')\n",
            "새우깡\n"
          ],
          "name": "stdout"
        }
      ]
    },
    {
      "cell_type": "markdown",
      "metadata": {
        "id": "iiG-9Wyv3kvr"
      },
      "source": [
        "# 집합(set) > 연산\n",
        "\n",
        "a와 b의 합집합 a.union(b) a|b\n",
        "\n",
        "a와 b의 교집합 a.intersection(b) a&b\n",
        "\n",
        "a와 b의 차집합 a.difference(b) a-b"
      ]
    },
    {
      "cell_type": "code",
      "metadata": {
        "colab": {
          "base_uri": "https://localhost:8080/"
        },
        "id": "BxaqCV-62xsX",
        "outputId": "e341525c-b6c0-497b-b961-51778e7da6d8"
      },
      "source": [
        "sweety = {'빼빼로', '칸초', '칙촉', '허니버터'}\n",
        "salty = {'허니버터', '포카칩', '새우깡'}\n",
        "\n",
        "# 합집합\n",
        "print(sweety.union(salty))\n",
        "print(sweety|salty)\n",
        "\n",
        "# 교집합\n",
        "print(sweety.intersection(salty))\n",
        "print(sweety&salty)\n",
        "\n",
        "# 차집합\n",
        "print(sweety.difference(salty))\n",
        "print(sweety-salty)\n",
        "print(salty.difference(sweety))\n",
        "print(salty-sweety)\n",
        "\n",
        "#리스트에서 중복을 제거하거나 체크하기 위해 집합 주로 사용"
      ],
      "execution_count": null,
      "outputs": [
        {
          "output_type": "stream",
          "text": [
            "{'허니버터', '빼빼로', '칙촉', '새우깡', '포카칩', '칸초'}\n",
            "{'허니버터', '빼빼로', '칙촉', '새우깡', '포카칩', '칸초'}\n",
            "{'허니버터'}\n",
            "{'허니버터'}\n",
            "{'빼빼로', '칸초', '칙촉'}\n",
            "{'빼빼로', '칸초', '칙촉'}\n",
            "{'새우깡', '포카칩'}\n",
            "{'새우깡', '포카칩'}\n"
          ],
          "name": "stdout"
        }
      ]
    },
    {
      "cell_type": "markdown",
      "metadata": {
        "id": "tIEskwud4qyP"
      },
      "source": [
        "# 집합(set) > 요소추가\n",
        "\n",
        "집합명.add(요소) = 1개 추가"
      ]
    },
    {
      "cell_type": "code",
      "metadata": {
        "colab": {
          "base_uri": "https://localhost:8080/"
        },
        "id": "jDPk07OW5H64",
        "outputId": "5505c078-81be-4ee0-9e2d-f088e359995a"
      },
      "source": [
        "set_snack = {'새우깡', '오감자', '썬칩', '포카칩', '썬칩'}\n",
        "set_snack.add('허니버터')\n",
        "set_snack"
      ],
      "execution_count": null,
      "outputs": [
        {
          "output_type": "execute_result",
          "data": {
            "text/plain": [
              "{'새우깡', '썬칩', '오감자', '포카칩', '허니버터'}"
            ]
          },
          "metadata": {
            "tags": []
          },
          "execution_count": 18
        }
      ]
    },
    {
      "cell_type": "markdown",
      "metadata": {
        "id": "hgLeypaO5QjT"
      },
      "source": [
        "집합명.update(리스트) = 여러 개 추가"
      ]
    },
    {
      "cell_type": "code",
      "metadata": {
        "colab": {
          "base_uri": "https://localhost:8080/"
        },
        "id": "mlXZPM0j5RDr",
        "outputId": "330d5669-0861-4fc5-9132-60930a3e916a"
      },
      "source": [
        "set_snack = {'새우깡', '오감자', '썬칩', '포카칩', '썬칩'}\n",
        "set_snack.update(['허니버터', '칸초'])\n",
        "set_snack"
      ],
      "execution_count": null,
      "outputs": [
        {
          "output_type": "execute_result",
          "data": {
            "text/plain": [
              "{'새우깡', '썬칩', '오감자', '칸초', '포카칩', '허니버터'}"
            ]
          },
          "metadata": {
            "tags": []
          },
          "execution_count": 19
        }
      ]
    },
    {
      "cell_type": "markdown",
      "metadata": {
        "id": "bIgRHzDu5dOc"
      },
      "source": [
        "# 집합(set) > 요소삭제\n",
        "집합명.remove(요소)\n",
        "        \n",
        "    인덱스 값이 없기 때문에 요소로 삭제하는 remove만 이용 가능(del, pop 이런거 안됨)"
      ]
    },
    {
      "cell_type": "code",
      "metadata": {
        "colab": {
          "base_uri": "https://localhost:8080/"
        },
        "id": "XBOJuBos5sx3",
        "outputId": "f138bdd6-83ad-4000-9f0f-102fccf7d583"
      },
      "source": [
        "set_snack = {'새우깡', '오감자', '썬칩', '포카칩', '썬칩'}\n",
        "set_snack.remove('새우깡')\n",
        "set_snack"
      ],
      "execution_count": null,
      "outputs": [
        {
          "output_type": "execute_result",
          "data": {
            "text/plain": [
              "{'썬칩', '오감자', '포카칩'}"
            ]
          },
          "metadata": {
            "tags": []
          },
          "execution_count": 20
        }
      ]
    },
    {
      "cell_type": "code",
      "metadata": {
        "colab": {
          "base_uri": "https://localhost:8080/",
          "height": 208
        },
        "id": "HGvoG3eg6OqB",
        "outputId": "28da7870-2750-4e7c-accb-f16ff4527d4f"
      },
      "source": [
        "#존재하지 않는 요소 삭제 시도하면 에러 발생\n",
        "set_snack = {'새우깡', '오감자', '썬칩', '포카칩', '썬칩'}\n",
        "set_snack.remove('포스틱')\n",
        "set_snack"
      ],
      "execution_count": null,
      "outputs": [
        {
          "output_type": "error",
          "ename": "KeyError",
          "evalue": "ignored",
          "traceback": [
            "\u001b[0;31m---------------------------------------------------------------------------\u001b[0m",
            "\u001b[0;31mKeyError\u001b[0m                                  Traceback (most recent call last)",
            "\u001b[0;32m<ipython-input-22-b171fe43bd6f>\u001b[0m in \u001b[0;36m<module>\u001b[0;34m()\u001b[0m\n\u001b[1;32m      1\u001b[0m \u001b[0mset_snack\u001b[0m \u001b[0;34m=\u001b[0m \u001b[0;34m{\u001b[0m\u001b[0;34m'새우깡'\u001b[0m\u001b[0;34m,\u001b[0m \u001b[0;34m'오감자'\u001b[0m\u001b[0;34m,\u001b[0m \u001b[0;34m'썬칩'\u001b[0m\u001b[0;34m,\u001b[0m \u001b[0;34m'포카칩'\u001b[0m\u001b[0;34m,\u001b[0m \u001b[0;34m'썬칩'\u001b[0m\u001b[0;34m}\u001b[0m\u001b[0;34m\u001b[0m\u001b[0;34m\u001b[0m\u001b[0m\n\u001b[0;32m----> 2\u001b[0;31m \u001b[0mset_snack\u001b[0m\u001b[0;34m.\u001b[0m\u001b[0mremove\u001b[0m\u001b[0;34m(\u001b[0m\u001b[0;34m'포스틱'\u001b[0m\u001b[0;34m)\u001b[0m\u001b[0;34m\u001b[0m\u001b[0;34m\u001b[0m\u001b[0m\n\u001b[0m\u001b[1;32m      3\u001b[0m \u001b[0mset_snack\u001b[0m\u001b[0;34m\u001b[0m\u001b[0;34m\u001b[0m\u001b[0m\n",
            "\u001b[0;31mKeyError\u001b[0m: '포스틱'"
          ]
        }
      ]
    },
    {
      "cell_type": "code",
      "metadata": {
        "colab": {
          "base_uri": "https://localhost:8080/"
        },
        "id": "mU9kDr6S53ti",
        "outputId": "567e4ddc-d022-4187-91ca-516cf7aae9fe"
      },
      "source": [
        "#if문으로 조건 걸어서 삭제하기\n",
        "set_snack = {'새우깡', '오감자', '썬칩', '포카칩', '썬칩'}\n",
        "if '썬칩' in list(set_snack):\n",
        "    set_snack.remove('썬칩')\n",
        "set_snack"
      ],
      "execution_count": null,
      "outputs": [
        {
          "output_type": "execute_result",
          "data": {
            "text/plain": [
              "{'새우깡', '오감자', '포카칩'}"
            ]
          },
          "metadata": {
            "tags": []
          },
          "execution_count": 21
        }
      ]
    },
    {
      "cell_type": "markdown",
      "metadata": {
        "id": "ZxkbGK5f7IDX"
      },
      "source": [
        "# 오류 메시지 해석\n",
        "> NameError : 참조변수 없음"
      ]
    },
    {
      "cell_type": "code",
      "metadata": {
        "colab": {
          "base_uri": "https://localhost:8080/",
          "height": 172
        },
        "id": "erM80Lio7NZR",
        "outputId": "0e5d143c-236e-41e5-e5a6-d40108c921fd"
      },
      "source": [
        "print(num)"
      ],
      "execution_count": null,
      "outputs": [
        {
          "output_type": "error",
          "ename": "NameError",
          "evalue": "ignored",
          "traceback": [
            "\u001b[0;31m---------------------------------------------------------------------------\u001b[0m",
            "\u001b[0;31mNameError\u001b[0m                                 Traceback (most recent call last)",
            "\u001b[0;32m<ipython-input-24-55a60ae9504f>\u001b[0m in \u001b[0;36m<module>\u001b[0;34m()\u001b[0m\n\u001b[0;32m----> 1\u001b[0;31m \u001b[0mprint\u001b[0m\u001b[0;34m(\u001b[0m\u001b[0mnum\u001b[0m\u001b[0;34m)\u001b[0m\u001b[0;34m\u001b[0m\u001b[0;34m\u001b[0m\u001b[0m\n\u001b[0m",
            "\u001b[0;31mNameError\u001b[0m: name 'num' is not defined"
          ]
        }
      ]
    },
    {
      "cell_type": "markdown",
      "metadata": {
        "id": "xKkZG0Sa70he"
      },
      "source": [
        "> SyntaxError : 문법이 잘못되었음 (오타, 괄호를 제대로 닫지 않았을 때, 콜론(:)을 잘못 썼을 때)"
      ]
    },
    {
      "cell_type": "code",
      "metadata": {
        "colab": {
          "base_uri": "https://localhost:8080/",
          "height": 136
        },
        "id": "0qbgVpyX7QA2",
        "outputId": "cd631d89-7ee5-4e4e-d3eb-59d692a5b13d"
      },
      "source": [
        "print(num):"
      ],
      "execution_count": null,
      "outputs": [
        {
          "output_type": "error",
          "ename": "SyntaxError",
          "evalue": "ignored",
          "traceback": [
            "\u001b[0;36m  File \u001b[0;32m\"<ipython-input-25-6f556db8ea57>\"\u001b[0;36m, line \u001b[0;32m1\u001b[0m\n\u001b[0;31m    print(num):\u001b[0m\n\u001b[0m               ^\u001b[0m\n\u001b[0;31mSyntaxError\u001b[0m\u001b[0;31m:\u001b[0m invalid syntax\n"
          ]
        }
      ]
    },
    {
      "cell_type": "markdown",
      "metadata": {
        "id": "z40yF3JW8EUk"
      },
      "source": [
        "> TypeError : 타입이 맞지 않음"
      ]
    },
    {
      "cell_type": "code",
      "metadata": {
        "colab": {
          "base_uri": "https://localhost:8080/",
          "height": 208
        },
        "id": "uKL7ix2r8Dtn",
        "outputId": "ee0be5db-70f0-40b7-8c68-2f3d933c2c58"
      },
      "source": [
        "a, b = '1', '2'\n",
        "c = a - b\n",
        "print(d)"
      ],
      "execution_count": null,
      "outputs": [
        {
          "output_type": "error",
          "ename": "TypeError",
          "evalue": "ignored",
          "traceback": [
            "\u001b[0;31m---------------------------------------------------------------------------\u001b[0m",
            "\u001b[0;31mTypeError\u001b[0m                                 Traceback (most recent call last)",
            "\u001b[0;32m<ipython-input-27-7f371145da01>\u001b[0m in \u001b[0;36m<module>\u001b[0;34m()\u001b[0m\n\u001b[1;32m      1\u001b[0m \u001b[0ma\u001b[0m\u001b[0;34m,\u001b[0m \u001b[0mb\u001b[0m \u001b[0;34m=\u001b[0m \u001b[0;34m'1'\u001b[0m\u001b[0;34m,\u001b[0m \u001b[0;34m'2'\u001b[0m\u001b[0;34m\u001b[0m\u001b[0;34m\u001b[0m\u001b[0m\n\u001b[0;32m----> 2\u001b[0;31m \u001b[0mc\u001b[0m \u001b[0;34m=\u001b[0m \u001b[0ma\u001b[0m \u001b[0;34m-\u001b[0m \u001b[0mb\u001b[0m\u001b[0;34m\u001b[0m\u001b[0;34m\u001b[0m\u001b[0m\n\u001b[0m\u001b[1;32m      3\u001b[0m \u001b[0mprint\u001b[0m\u001b[0;34m(\u001b[0m\u001b[0md\u001b[0m\u001b[0;34m)\u001b[0m\u001b[0;34m\u001b[0m\u001b[0;34m\u001b[0m\u001b[0m\n",
            "\u001b[0;31mTypeError\u001b[0m: unsupported operand type(s) for -: 'str' and 'str'"
          ]
        }
      ]
    },
    {
      "cell_type": "markdown",
      "metadata": {
        "id": "x9pb9J4E8Jys"
      },
      "source": [
        "> ZerodivisionError : 0으로 나눌 수 없음"
      ]
    },
    {
      "cell_type": "code",
      "metadata": {
        "colab": {
          "base_uri": "https://localhost:8080/",
          "height": 208
        },
        "id": "Bh6rUyW68l00",
        "outputId": "6deea7bd-bc5a-4513-a507-05be6200bded"
      },
      "source": [
        "a, b = 1, 0\n",
        "c = a/b\n",
        "print(c)"
      ],
      "execution_count": null,
      "outputs": [
        {
          "output_type": "error",
          "ename": "ZeroDivisionError",
          "evalue": "ignored",
          "traceback": [
            "\u001b[0;31m---------------------------------------------------------------------------\u001b[0m",
            "\u001b[0;31mZeroDivisionError\u001b[0m                         Traceback (most recent call last)",
            "\u001b[0;32m<ipython-input-29-7a5251cbbd36>\u001b[0m in \u001b[0;36m<module>\u001b[0;34m()\u001b[0m\n\u001b[1;32m      1\u001b[0m \u001b[0ma\u001b[0m\u001b[0;34m,\u001b[0m \u001b[0mb\u001b[0m \u001b[0;34m=\u001b[0m \u001b[0;36m1\u001b[0m\u001b[0;34m,\u001b[0m \u001b[0;36m0\u001b[0m\u001b[0;34m\u001b[0m\u001b[0;34m\u001b[0m\u001b[0m\n\u001b[0;32m----> 2\u001b[0;31m \u001b[0mc\u001b[0m \u001b[0;34m=\u001b[0m \u001b[0ma\u001b[0m\u001b[0;34m/\u001b[0m\u001b[0mb\u001b[0m\u001b[0;34m\u001b[0m\u001b[0;34m\u001b[0m\u001b[0m\n\u001b[0m\u001b[1;32m      3\u001b[0m \u001b[0mprint\u001b[0m\u001b[0;34m(\u001b[0m\u001b[0mc\u001b[0m\u001b[0;34m)\u001b[0m\u001b[0;34m\u001b[0m\u001b[0;34m\u001b[0m\u001b[0m\n",
            "\u001b[0;31mZeroDivisionError\u001b[0m: division by zero"
          ]
        }
      ]
    },
    {
      "cell_type": "markdown",
      "metadata": {
        "id": "MoTafyh68OXA"
      },
      "source": [
        "> IndentationError : 들여쓰기 오류"
      ]
    },
    {
      "cell_type": "code",
      "metadata": {
        "colab": {
          "base_uri": "https://localhost:8080/",
          "height": 136
        },
        "id": "0gZrFe2n8mcb",
        "outputId": "9cd9b4c7-d9b5-45ad-85a0-a8378171c9b0"
      },
      "source": [
        "print(1)\n",
        " print(2)"
      ],
      "execution_count": null,
      "outputs": [
        {
          "output_type": "error",
          "ename": "IndentationError",
          "evalue": "ignored",
          "traceback": [
            "\u001b[0;36m  File \u001b[0;32m\"<ipython-input-28-d78587176f97>\"\u001b[0;36m, line \u001b[0;32m2\u001b[0m\n\u001b[0;31m    print(2)\u001b[0m\n\u001b[0m    ^\u001b[0m\n\u001b[0;31mIndentationError\u001b[0m\u001b[0;31m:\u001b[0m unexpected indent\n"
          ]
        }
      ]
    },
    {
      "cell_type": "markdown",
      "metadata": {
        "id": "j3Qif5lf9WQ3"
      },
      "source": [
        "# 프로그램의 3가지 기본 제어구조\n",
        "1. 순차구조\n",
        "\n",
        "    : 명령들이 순차적으로 실행되는 구조\n",
        "\n",
        "2. 선택구조\n",
        "\n",
        "    : 조건에 따라 명령을 선택하여 실행되는 구조\n",
        "\n",
        "3. 반복구조\n",
        "\n",
        "    : 동일한 명령이 반복되면서 실행되는 구조"
      ]
    },
    {
      "cell_type": "markdown",
      "metadata": {
        "id": "j0m_RR449tBJ"
      },
      "source": [
        "# 선택구조\n",
        "> 조건일때만 실행\n",
        "    \n",
        "    :\n",
        "\n",
        "> 조건일때와 아닐 때로 분기\n",
        "\n",
        "    :\n",
        "\n",
        "> 조건이 여러개 일 때\n",
        "\n",
        "    : 만일 신호등이 빨간불이면 "
      ]
    },
    {
      "cell_type": "code",
      "metadata": {
        "colab": {
          "base_uri": "https://localhost:8080/",
          "height": 190
        },
        "id": "KdKKmIpP-FY7",
        "outputId": "25f4911d-3f47-4381-9fb5-d2eea0067acd"
      },
      "source": [
        "# if\n",
        "'''\n",
        "if 조건:\n",
        "    명령어\n",
        "    \n",
        "ex)\n",
        "if 열이난다면 해열제를 먹이세요\n",
        "'''"
      ],
      "execution_count": null,
      "outputs": [
        {
          "output_type": "error",
          "ename": "NameError",
          "evalue": "ignored",
          "traceback": [
            "\u001b[0;31m---------------------------------------------------------------------------\u001b[0m",
            "\u001b[0;31mNameError\u001b[0m                                 Traceback (most recent call last)",
            "\u001b[0;32m<ipython-input-30-81ae9d2444bc>\u001b[0m in \u001b[0;36m<module>\u001b[0;34m()\u001b[0m\n\u001b[0;32m----> 1\u001b[0;31m \u001b[0;32mif\u001b[0m \u001b[0m조건\u001b[0m\u001b[0;34m:\u001b[0m\u001b[0;34m\u001b[0m\u001b[0;34m\u001b[0m\u001b[0m\n\u001b[0m\u001b[1;32m      2\u001b[0m     \u001b[0m명령어\u001b[0m\u001b[0;34m\u001b[0m\u001b[0;34m\u001b[0m\u001b[0m\n",
            "\u001b[0;31mNameError\u001b[0m: name '조건' is not defined"
          ]
        }
      ]
    },
    {
      "cell_type": "code",
      "metadata": {
        "id": "oPOqGwvw-IE2"
      },
      "source": [
        "# if ~ else\n",
        "'''\n",
        "if 조건:\n",
        "    명령어\n",
        "else:\n",
        "    명령어\n",
        "    \n",
        "ex)\n",
        "if 비가오면:\n",
        "    영화관에서 만나자\n",
        "else:\n",
        "    공원에서 만나자\n",
        "'''"
      ],
      "execution_count": null,
      "outputs": []
    },
    {
      "cell_type": "code",
      "metadata": {
        "id": "cw8U0UwT-aAx"
      },
      "source": [
        "# if ~ elif\n",
        "'''\n",
        "if 조건:\n",
        "    명령어1\n",
        "elif:\n",
        "    명령어2\n",
        "    \n",
        "ex)\n",
        "if 빨간불이면:\n",
        "    멈추세요\n",
        "elif 노란불이면:\n",
        "    서행하세요\n",
        "elif 초록불이면:\n",
        "    주행하세요\n",
        "'''"
      ],
      "execution_count": null,
      "outputs": []
    },
    {
      "cell_type": "code",
      "metadata": {
        "id": "Xvzo1bD1-egY"
      },
      "source": [
        "# if ~ elif ~ else\n",
        "'''\n",
        "if 조건:\n",
        "    명령어1\n",
        "elif 조건:\n",
        "    명령어2\n",
        "else:\n",
        "    명령어3\n",
        "    \n",
        "ex)\n",
        "if 빨간불이면:\n",
        "    멈추세요\n",
        "elif 노란불이면:\n",
        "    서행하세요\n",
        "elif 초록불이면:\n",
        "    주행하세요\n",
        "else:\n",
        "    신호등 고장\n",
        "'''"
      ],
      "execution_count": null,
      "outputs": []
    },
    {
      "cell_type": "code",
      "metadata": {
        "id": "AgkB30xH-lSb"
      },
      "source": [
        "# 중첩if\n",
        "'''\n",
        "if 조건:\n",
        "    명령어1\n",
        "    if 조건:\n",
        "        명령어2\n",
        "else:\n",
        "    명령어3\n",
        "    \n",
        "ex)\n",
        "if 빨간불이면:\n",
        "    멈추세요\n",
        "elif 노란불이면:\n",
        "    서행하세요\n",
        "elif 초록불이면:\n",
        "    주행하세요\n",
        "    if 구급차등장:\n",
        "        비키고 서행하세요\n",
        "else:\n",
        "    신호등 고장\n",
        "'''"
      ],
      "execution_count": null,
      "outputs": []
    },
    {
      "cell_type": "code",
      "metadata": {
        "id": "k66esz84Bs3g"
      },
      "source": [
        "'''\n",
        "if 조건식:\n",
        "    코드블록\n",
        "'''\n",
        "#조건식의 결과가 참일 때 코드블록 명령 수행, 참이 아니면 건너뜀"
      ],
      "execution_count": null,
      "outputs": []
    },
    {
      "cell_type": "markdown",
      "metadata": {
        "id": "vvaN8CRkB3Wq"
      },
      "source": [
        "# 코드블록\n",
        "> 콜론(:) 아랫줄부터 들여쓰기 된 부분을 명령문 블록 또는 코드블록이라고 한다.\n",
        "\n",
        "> 들여쓰기 간격은 같아야하며, 콜론(:)을 사용하면 자동으로 들여쓰기 된 채로 다음 줄이 시작된다."
      ]
    },
    {
      "cell_type": "code",
      "metadata": {
        "colab": {
          "base_uri": "https://localhost:8080/"
        },
        "id": "1f5njqOfCKi2",
        "outputId": "43ff72cc-7ff3-43a9-bc7a-159c42ff0a96"
      },
      "source": [
        "a = 1\n",
        "if a < 0:\n",
        "    print('a는 0보다 작다.')\n",
        "    print('a는 음수이다.')\n",
        "print('끝')"
      ],
      "execution_count": null,
      "outputs": [
        {
          "output_type": "stream",
          "text": [
            "끝\n"
          ],
          "name": "stdout"
        }
      ]
    },
    {
      "cell_type": "code",
      "metadata": {
        "colab": {
          "base_uri": "https://localhost:8080/"
        },
        "id": "r1ElDFoJCVwc",
        "outputId": "d3799b1b-2bb2-4ddd-cb49-95da12242499"
      },
      "source": [
        "a = 1\n",
        "if a < 0:\n",
        "    print('a는 0보다 작다.')\n",
        "print('a는 음수이다.')\n",
        "print('끝')"
      ],
      "execution_count": null,
      "outputs": [
        {
          "output_type": "stream",
          "text": [
            "a는 음수이다.\n",
            "끝\n"
          ],
          "name": "stdout"
        }
      ]
    },
    {
      "cell_type": "code",
      "metadata": {
        "colab": {
          "base_uri": "https://localhost:8080/"
        },
        "id": "jBLeq8wmC0eJ",
        "outputId": "aec3926a-e44f-4431-f5a5-b55a0e80caa9"
      },
      "source": [
        "# 예제 > if 구조\n",
        "temp = float(input('체온: '))\n",
        "if temp > 37.5:\n",
        "    print('입장불가')"
      ],
      "execution_count": null,
      "outputs": [
        {
          "output_type": "stream",
          "text": [
            "체온: 38\n",
            "입장불가\n"
          ],
          "name": "stdout"
        }
      ]
    },
    {
      "cell_type": "code",
      "metadata": {
        "id": "2KaPTwKwDuMI"
      },
      "source": [
        "# 예제 > if~else 구조\n",
        "temp = float(input('체온: '))\n",
        "if temp > 37.5:\n",
        "    print('입장불가')\n",
        "else:\n",
        "    print('정상입니다.')"
      ],
      "execution_count": null,
      "outputs": []
    },
    {
      "cell_type": "code",
      "metadata": {
        "colab": {
          "base_uri": "https://localhost:8080/"
        },
        "id": "pehFa88DD7i1",
        "outputId": "0908c59e-58e7-4084-e528-2a26acf93157"
      },
      "source": [
        "# 예제 > if~elif~else 구조\n",
        "temp = float(input('체온: '))\n",
        "medical_check = input('Y/N: ')\n",
        "quarantine = input('Y/N: ')\n",
        "if temp > 37.5:\n",
        "    print('발열기준 초과: 등교 불가')\n",
        "elif medical_check == 'Y':\n",
        "    print('검사대기 중 등교 불가')\n",
        "elif quarantine == 'Y':\n",
        "    print('자가격리 중 등교 불가')\n",
        "else:\n",
        "    print('정상, 등교 가능')"
      ],
      "execution_count": null,
      "outputs": [
        {
          "output_type": "stream",
          "text": [
            "체온: 37\n",
            "Y/N: N\n",
            "Y/N: N\n",
            "정상, 등교 가능\n"
          ],
          "name": "stdout"
        }
      ]
    },
    {
      "cell_type": "code",
      "metadata": {
        "colab": {
          "base_uri": "https://localhost:8080/",
          "height": 136
        },
        "id": "GP6aTc83F2v1",
        "outputId": "00e255ed-8cfe-4998-cb3c-426650365203"
      },
      "source": [
        "# 예제 > 점수에 따른 등급 출력하기\n",
        "# > 점수 입력받고 점수의 범위에 따라 등급을 출력하는 프로그램을 작성하세요\n",
        "score = int(input('점수를 입력하세요: ')\n",
        "if score > 89:\n",
        "    print('등급: A')\n",
        "elif 89 >= score > 79:\n",
        "    print('등급: B')\n",
        "elif 79 >= score > 69:\n",
        "    print('등급: C')\n",
        "elif 69 >= score > 59:\n",
        "    print('등급: D')\n",
        "else score < 59:\n",
        "    print('등급: F')"
      ],
      "execution_count": null,
      "outputs": [
        {
          "output_type": "error",
          "ename": "SyntaxError",
          "evalue": "ignored",
          "traceback": [
            "\u001b[0;36m  File \u001b[0;32m\"<ipython-input-42-684fca4bab37>\"\u001b[0;36m, line \u001b[0;32m5\u001b[0m\n\u001b[0;31m    if score > 89:\u001b[0m\n\u001b[0m                 ^\u001b[0m\n\u001b[0;31mSyntaxError\u001b[0m\u001b[0;31m:\u001b[0m invalid syntax\n"
          ]
        }
      ]
    }
  ]
}